{
 "cells": [
  {
   "cell_type": "markdown",
   "metadata": {
    "pycharm": {
     "name": "#%%md\n"
    }
   },
   "source": [
    "# Challenge 1 - Even distribution of ids ⏱15m\n",
    "\n",
    "A list of ids is given.\n",
    "\n",
    "Divide the list into 10 groups.\n",
    "\n",
    "The mapping should be consistent.\n",
    "\n",
    "The size of each group should be as close a possible to the number of ids / 10.\n",
    "\n",
    "Notes:\n",
    "The list is skewed in the value of the last digit (i.e modulo 10 will not produce an even distribution)\n"
   ]
  },
  {
   "cell_type": "code",
   "execution_count": null,
   "metadata": {
    "pycharm": {
     "name": "#%%\n"
    }
   },
   "outputs": [],
   "source": [
    "NUMBER_OF_GROUPS = 10\n",
    "\n",
    "with open(\"challenge1-ids.csv\", \"r\") as ids_file:\n",
    "    # implement a static mapping from id to group number that would produce an even distribution.\n",
    "    # show that the produced mapping does produce an even distribution.\n",
    "    pass\n",
    "|"
   ]
  }
 ],
 "metadata": {
  "kernelspec": {
   "display_name": "Python 3 (ipykernel)",
   "language": "python",
   "name": "python3"
  },
  "language_info": {
   "codemirror_mode": {
    "name": "ipython",
    "version": 3
   },
   "file_extension": ".py",
   "mimetype": "text/x-python",
   "name": "python",
   "nbconvert_exporter": "python",
   "pygments_lexer": "ipython3",
   "version": "3.9.7"
  }
 },
 "nbformat": 4,
 "nbformat_minor": 1
}