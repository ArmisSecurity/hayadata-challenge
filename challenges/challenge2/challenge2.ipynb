{
 "cells": [
  {
   "cell_type": "markdown",
   "metadata": {
    "collapsed": true,
    "pycharm": {
     "name": "#%%md\n"
    }
   },
   "source": [
    "# Challenge 2 - Spark - Most active devices in category ⏱10m\n",
    "\n",
    "At armis, we monitor the activity of devices, where every device belongs to a category: Mobile, IOT, Medical etc.. \n",
    "\n",
    "The following pyspark code creates a dataframe of device activity with the schema:\n",
    "```\n",
    "device_id : int\n",
    "category: string\n",
    "activities: int\n",
    "```\n",
    "\n",
    "Print the top 5 most active devices in each category. \n",
    "\n",
    "# NOTE: USING PANDAS IS NOT ALLOWED"
   ]
  },
  {
   "cell_type": "code",
   "execution_count": 4,
   "metadata": {},
   "outputs": [],
   "source": [
    "import pyspark\n",
    "\n",
    "sc = pyspark.SparkContext.getOrCreate()\n",
    "spark = pyspark.SQLContext(sc)\n",
    "device_activities_df = spark.read.parquet(\"./devices-by-category.parquet\")"
   ]
  },
  {
   "cell_type": "code",
   "execution_count": 5,
   "metadata": {},
   "outputs": [
    {
     "name": "stdout",
     "output_type": "stream",
     "text": [
      "+---------+--------+----------+\n",
      "|device_id|category|activities|\n",
      "+---------+--------+----------+\n",
      "|        1|  Mobile|      1937|\n",
      "|        2|     IOT|      8737|\n",
      "|        3|     IOT|      9503|\n",
      "|        4|  Mobile|      6089|\n",
      "|        5| Medical|      9522|\n",
      "|        6|  Mobile|      3971|\n",
      "|        7| Imaging|      6715|\n",
      "|        8| Imaging|      4806|\n",
      "|        9|     IOT|      4326|\n",
      "|       10|     IOT|      8390|\n",
      "+---------+--------+----------+\n",
      "only showing top 10 rows\n",
      "\n"
     ]
    }
   ],
   "source": [
    "device_activities_df.show(10)"
   ]
  },
  {
   "cell_type": "code",
   "execution_count": null,
   "metadata": {},
   "outputs": [],
   "source": []
  }
 ],
 "metadata": {
  "kernelspec": {
   "display_name": "Python 3 (ipykernel)",
   "language": "python",
   "name": "python3"
  },
  "language_info": {
   "codemirror_mode": {
    "name": "ipython",
    "version": 3
   },
   "file_extension": ".py",
   "mimetype": "text/x-python",
   "name": "python",
   "nbconvert_exporter": "python",
   "pygments_lexer": "ipython3",
   "version": "3.9.7"
  }
 },
 "nbformat": 4,
 "nbformat_minor": 1
}